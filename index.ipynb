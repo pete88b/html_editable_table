{
 "cells": [
  {
   "cell_type": "markdown",
   "metadata": {},
   "source": [
    "# HTML Editable Table\n",
    "\n",
    "> Show how we can make editable table with HTML, CSS and JavaScript."
   ]
  },
  {
   "cell_type": "markdown",
   "metadata": {},
   "source": [
    "## Quick project overview\n",
    "\n",
    "TODO: add links to gist for live demos ...\n",
    "\n",
    "TODO: explain why we have a python app as well ...\n",
    "\n",
    "- `10_main.ipynb`\n",
    "    - TODO\n",
    "- `00_core.ipynb`\n",
    "    - TODO"
   ]
  },
  {
   "cell_type": "markdown",
   "metadata": {},
   "source": [
    "# Running locally\n",
    "\n",
    "Note: See conda setup below\n",
    "\n",
    "The easiest way to get started is to run the app from the command line.\n",
    "\n",
    "```\n",
    "SET X_API_KEYS=['test']\n",
    "conda activate html_editable_table\n",
    "cd devopsgit\\html_editable_table\n",
    "uvicorn app:app --reload\n",
    "```\n",
    "\n",
    "Hit [the docs page](http://127.0.0.1:8000/docs) and try it out"
   ]
  },
  {
   "cell_type": "markdown",
   "metadata": {},
   "source": [
    "# Deployment\n",
    "\n",
    "TODO: explain how to deploy to python anywhere\n",
    "\n",
    "See https://fastapi.tiangolo.com/deployment/server-workers/ if you're interested in startup command options."
   ]
  },
  {
   "cell_type": "markdown",
   "metadata": {},
   "source": [
    "# Developers\n",
    "\n",
    "## Conda set-up\n",
    "\n",
    "`conda env create -f environment.yaml`"
   ]
  }
 ],
 "metadata": {
  "kernelspec": {
   "display_name": "Python 3 (ipykernel)",
   "language": "python",
   "name": "python3"
  }
 },
 "nbformat": 4,
 "nbformat_minor": 2
}
