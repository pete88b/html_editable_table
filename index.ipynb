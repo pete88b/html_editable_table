{
 "cells": [
  {
   "cell_type": "markdown",
   "metadata": {},
   "source": [
    "# HTML Editable Table\n",
    "\n",
    "> Show how we can make editable tables with HTML, CSS and JavaScript."
   ]
  },
  {
   "cell_type": "markdown",
   "metadata": {},
   "source": [
    "# Quick project overview\n",
    "\n",
    "This is a work in progress but for now ...\n",
    "\n",
    "This project contains lots of plain HTML, CSS and JavaScript examples of how we can work with editable HTML tables. \n",
    "We also have a [FastAPI](https://fastapi.tiangolo.com/) app\n",
    "- to make it easy to serve the static examples locally\n",
    "- show how we can make calls to a back-end API\n",
    "\n",
    "## Live demos\n",
    "\n",
    "- [via github pages](https://pete88b.github.io/html_editable_table/)\n",
    "    - Everything except the API call demo works via github pages"
   ]
  },
  {
   "cell_type": "markdown",
   "metadata": {},
   "source": [
    "# Running locally\n",
    "\n",
    "## Install anaconda\n",
    "\n",
    "[miniconda](https://docs.conda.io/en/latest/miniconda.html) is great (o:\n",
    "\n",
    "## Clone from github\n",
    "\n",
    "change directory to where you would like the repo to live on your machine\n",
    "\n",
    "```\n",
    "git clone https://github.com/pete88b/html_editable_table.git\n",
    "```\n",
    "\n",
    "## Create the conda environment\n",
    "\n",
    "```\n",
    "cd html_editable_table\n",
    "conda env create -f environment.yaml\n",
    "```\n",
    "\n",
    "## Start the FastAPI test server\n",
    "\n",
    "windows\n",
    "\n",
    "```\n",
    "SET X_API_KEYS=['test']\n",
    "uvicorn app:app --reload\n",
    "```\n",
    "\n",
    "linux\n",
    "\n",
    "```\n",
    "export X_API_KEYS=['test']\n",
    "uvicorn app:app --reload\n",
    "```\n",
    "\n",
    "## Then ...\n",
    "\n",
    "Hit [the index page](http://127.0.0.1:8000/docs/index.html) and try it out. Feel free to edit the project files- FastAPI reloads pretty fast so you should just need to reload your browser to see changes.\n",
    "\n",
    "Note: API docs are available at [the docs page](http://127.0.0.1:8000/docs)"
   ]
  },
  {
   "cell_type": "markdown",
   "metadata": {},
   "source": [
    "# The python app\n",
    "\n",
    "I use nbdev for all of my python projects (this one uses [nbdev1](https://nbdev1.fast.ai/tutorial.html)) but ... because the python part is so simple, I'm wondering if we won't see much benefit from using nbdev?"
   ]
  }
 ],
 "metadata": {
  "kernelspec": {
   "display_name": "Python 3 (ipykernel)",
   "language": "python",
   "name": "python3"
  }
 },
 "nbformat": 4,
 "nbformat_minor": 2
}
